{
 "cells": [
  {
   "cell_type": "markdown",
   "metadata": {},
   "source": [
    "# Analysis of the input data\n",
    "- What is typical customer/fraudster behavior?\n",
    "- Which type of aggregated information could be useful for the simulator?\n",
    "- Where are structural differences between fraud/non-fraud?"
   ]
  },
  {
   "cell_type": "code",
   "execution_count": null,
   "metadata": {
    "collapsed": true
   },
   "outputs": [],
   "source": [
    "import pandas as pd\n",
    "import numpy as np\n",
    "import matplotlib.pyplot as plt\n",
    "import matplotlib\n",
    "from datetime import datetime, timedelta\n",
    "import utils_data\n",
    "from os.path import join\n",
    "from IPython.display import display"
   ]
  },
  {
   "cell_type": "code",
   "execution_count": null,
   "metadata": {
    "collapsed": true
   },
   "outputs": [],
   "source": [
    "dates_2016 = [datetime(2016, 1, 1) + timedelta(days=i) for i in range(366)]"
   ]
  },
  {
   "cell_type": "markdown",
   "metadata": {},
   "source": [
    "##### Read in dataset and split into fraud/non-fraud"
   ]
  },
  {
   "cell_type": "code",
   "execution_count": null,
   "metadata": {
    "collapsed": true
   },
   "outputs": [],
   "source": [
    "dataset01, dataset0, dataset1 = utils_data.get_real_dataset()\n",
    "datasets = [dataset0, dataset1]\n",
    "\n",
    "out_folder = utils_data.FOLDER_REAL_DATA_ANALYSIS"
   ]
  },
  {
   "cell_type": "markdown",
   "metadata": {},
   "source": [
    "##### Print some basic info about the dataset"
   ]
  },
  {
   "cell_type": "code",
   "execution_count": null,
   "metadata": {},
   "outputs": [],
   "source": [
    "print(dataset01.head())"
   ]
  },
  {
   "cell_type": "code",
   "execution_count": null,
   "metadata": {},
   "outputs": [],
   "source": [
    "data_stats = utils_data.get_real_data_stats()\n",
    "data_stats.to_csv(join(utils_data.FOLDER_SIMULATOR_INPUT, 'aggregated_data.csv'))\n",
    "display(data_stats)"
   ]
  },
  {
   "cell_type": "markdown",
   "metadata": {},
   "source": [
    "Percentage of fraudulent cards also in genuine transactions:"
   ]
  },
  {
   "cell_type": "code",
   "execution_count": null,
   "metadata": {},
   "outputs": [],
   "source": [
    "most_used_card = dataset0['CardID'].value_counts().index[0]\n",
    "print(\"Card (ID) with most transactions: \", most_used_card)"
   ]
  },
  {
   "cell_type": "markdown",
   "metadata": {},
   "source": [
    "## 1. TIME of TRANSACTION: \n",
    "Here we analyse number of transactions regarding time."
   ]
  },
  {
   "cell_type": "markdown",
   "metadata": {},
   "source": [
    "### 1.1 Activity per day:"
   ]
  },
  {
   "cell_type": "code",
   "execution_count": null,
   "metadata": {},
   "outputs": [],
   "source": [
    "plt.figure(figsize=(15, 5))\n",
    "plt_idx = 1\n",
    "for d in datasets:\n",
    "    plt.subplot(1, 2, plt_idx)\n",
    "    trans_dates = d[\"Global_Date\"].apply(lambda date: date.date())\n",
    "    all_trans = trans_dates.value_counts().sort_index()\n",
    "    date_num = matplotlib.dates.date2num(all_trans.index)\n",
    "    plt.plot(date_num, all_trans.values, 'k.', label='num trans.')\n",
    "    plt.plot(date_num, np.zeros(len(date_num))+np.sum(all_trans)/366, 'g--',label='average')\n",
    "    plt_idx += 1\n",
    "    plt.title(d.name, size=20)\n",
    "    plt.xlabel('days (1.1.16 - 31.12.16)', size=15)\n",
    "    plt.xticks([])\n",
    "    plt.xlim(matplotlib.dates.date2num([datetime(2016,1,1), datetime(2016,12,31)]))\n",
    "    if plt_idx == 2:\n",
    "        plt.ylabel('num transactions', size=15)\n",
    "        plt.legend(fontsize=15)\n",
    "plt.tight_layout()\n",
    "plt.savefig(join(utils_data.FOLDER_REAL_DATA_ANALYSIS, 'time_day-in-year'))\n",
    "plt.show()"
   ]
  },
  {
   "cell_type": "markdown",
   "metadata": {},
   "source": [
    "Analysis: \n",
    "- It's interesting that there seems to be some kind of structure in the fraudster behavior. I.e., there are many days on which the number of frauds is exactly the same. This must either be due to some peculiarity in the data (are these days where fraud was investigated more?) or because the fraudsters do coordinated attacks"
   ]
  },
  {
   "cell_type": "markdown",
   "metadata": {},
   "source": [
    "### 1.2 Activity per day in a month:"
   ]
  },
  {
   "cell_type": "code",
   "execution_count": null,
   "metadata": {},
   "outputs": [],
   "source": [
    "monthdays_2016 = np.unique([dates_2016[i].day for i in range(366)], return_counts=True)\n",
    "monthdays_2016 = monthdays_2016[1][monthdays_2016[0]-1]\n",
    "\n",
    "plt.figure(figsize=(12, 5))\n",
    "plt_idx = 1\n",
    "monthday_frac = np.zeros((31, 2))\n",
    "idx = 0\n",
    "for d in datasets:\n",
    "    \n",
    "    # get the average number of transactions per day in a month\n",
    "    monthday = d[\"Local_Date\"].apply(lambda date: date.day).value_counts().sort_index()\n",
    "    monthday /= monthdays_2016\n",
    "    if idx > -1:\n",
    "        monthday_frac[:, idx] = monthday.values / np.sum(monthday.values, axis=0)\n",
    "    idx += 1\n",
    "    \n",
    "    plt.subplot(1, 2, plt_idx)\n",
    "    plt.plot(monthday.index, monthday.values, 'ko')\n",
    "    plt.plot(monthday.index, monthday.values, 'k-', markersize=0.1)\n",
    "    \n",
    "    plt.plot(monthday.index, np.zeros(31)+np.sum(monthday)/31, 'g--', label='average')\n",
    "    plt.title(d.name, size=20)\n",
    "    plt.xlabel('day in month', size=15)\n",
    "    if plt_idx == 1:\n",
    "        plt.ylabel('avg. num transactions', size=15)\n",
    "    plt_idx += 1\n",
    "plt.tight_layout()\n",
    "plt.savefig(join(utils_data.FOLDER_REAL_DATA_ANALYSIS, 'time_day-in-month'))\n",
    "plt.show()\n",
    "\n",
    "# save the resulting data\n",
    "np.save(join(utils_data.FOLDER_SIMULATOR_INPUT, 'monthday_frac'), monthday_frac)"
   ]
  },
  {
   "cell_type": "markdown",
   "metadata": {},
   "source": [
    "Analysis:\n",
    "- the amount of transactions does not depend on the day in a month in a utilisable way"
   ]
  },
  {
   "cell_type": "markdown",
   "metadata": {},
   "source": [
    "### 1.3 Activity per weekday:"
   ]
  },
  {
   "cell_type": "code",
   "execution_count": null,
   "metadata": {},
   "outputs": [],
   "source": [
    "weekdays_2016 = np.unique([dates_2016[i].weekday() for i in range(366)], return_counts=True)\n",
    "weekdays_2016 = weekdays_2016[1][weekdays_2016[0]]\n",
    "\n",
    "plt.figure(figsize=(12, 5))\n",
    "plt_idx = 1\n",
    "weekday_frac = np.zeros((7, 2))\n",
    "idx = 0\n",
    "for d in datasets:\n",
    "    \n",
    "    weekday = d[\"Local_Date\"].apply(lambda date: date.weekday()).value_counts().sort_index()\n",
    "    weekday /= weekdays_2016\n",
    "    if idx > -1:\n",
    "        weekday_frac[:, idx] = weekday.values / np.sum(weekday.values, axis=0)\n",
    "    idx += 1\n",
    "\n",
    "    plt.subplot(1, 2, plt_idx)\n",
    "    plt.plot(weekday.index, weekday.values, 'ko')\n",
    "    plt.plot(weekday.index, weekday.values, 'k-', markersize=0.1)\n",
    "    plt.plot(weekday.index, np.zeros(7)+np.sum(weekday)/7, 'g--', label='average')\n",
    "    plt.title(d.name, size=20)\n",
    "    plt.xlabel('weekday', size=15)\n",
    "    plt.xticks(range(7), ['Mo', 'Tu', 'We', 'Th', 'Fr', 'Sa', 'Su'])\n",
    "    if plt_idx == 1:\n",
    "        plt.ylabel('avg. num transactions', size=15)\n",
    "    plt_idx += 1\n",
    "plt.tight_layout()\n",
    "plt.savefig(join(utils_data.FOLDER_REAL_DATA_ANALYSIS, 'time_day-in-week'))\n",
    "plt.show()\n",
    "\n",
    "# save the resulting data\n",
    "np.save(join(utils_data.FOLDER_SIMULATOR_INPUT, 'weekday_frac'), weekday_frac)"
   ]
  },
  {
   "cell_type": "markdown",
   "metadata": {},
   "source": [
    "Analysis:\n",
    "- the amount of transactions does not depend on the day in a week in a utilisable way"
   ]
  },
  {
   "cell_type": "markdown",
   "metadata": {},
   "source": [
    "### 1.4 Activity per month in a year:"
   ]
  },
  {
   "cell_type": "code",
   "execution_count": null,
   "metadata": {},
   "outputs": [],
   "source": [
    "monthdays = np.array([31, 29, 31, 30, 31, 30, 31, 31, 30, 31, 30, 31])\n",
    "\n",
    "plt.figure(figsize=(12, 5))\n",
    "plt_idx = 1\n",
    "\n",
    "month_frac = np.zeros((12, 2))\n",
    "idx = 0\n",
    "for d in datasets:\n",
    "    \n",
    "    month = d[\"Local_Date\"].apply(lambda date: date.month).value_counts().sort_index()\n",
    "    # correct for different number of days in a month\n",
    "    month = month / monthdays[month.index.values-1] * np.mean(monthdays[month.index.values-1])\n",
    "    \n",
    "    if idx > -1:\n",
    "        month_frac[month.index-1, idx] = month.values / np.sum(month.values, axis=0)\n",
    "    idx += 1\n",
    "    \n",
    "    plt.subplot(1, 2, plt_idx)\n",
    "    plt.plot(month.index, month.values, 'ko')\n",
    "    plt.plot(month.index, month.values, 'k-', markersize=0.1)\n",
    "    plt.plot(range(1,13), np.zeros(12)+np.sum(month)/12, 'g--', label='average')\n",
    "    plt.title(d.name, size=20)\n",
    "    plt.xlabel('month', size=15)\n",
    "    plt.xticks(range(1, 13), ['Jan', 'Feb', 'Mar', 'Apr', 'May', 'Jun', 'Jul', 'Aug', 'Sep', 'Oct', 'Nov', 'Dec'])\n",
    "    if plt_idx == 1:\n",
    "        plt.ylabel('num transactions', size=15)\n",
    "    plt_idx += 1\n",
    "    \n",
    "plt.tight_layout()\n",
    "plt.savefig(join(utils_data.FOLDER_REAL_DATA_ANALYSIS, 'time_month-in-year'))\n",
    "plt.show()\n",
    "\n",
    "# save the resulting data\n",
    "np.save(join(utils_data.FOLDER_SIMULATOR_INPUT, 'month_frac'), month_frac)"
   ]
  },
  {
   "cell_type": "markdown",
   "metadata": {},
   "source": [
    "Analysis:\n",
    "- people buy more in summer than in winter"
   ]
  },
  {
   "cell_type": "markdown",
   "metadata": {},
   "source": [
    "### 1.5 Activity per hour of day:"
   ]
  },
  {
   "cell_type": "code",
   "execution_count": null,
   "metadata": {},
   "outputs": [],
   "source": [
    "plt.figure(figsize=(12, 5))\n",
    "plt_idx = 1\n",
    "\n",
    "hour_frac = np.zeros((24, 2))\n",
    "idx = 0\n",
    "for d in datasets:\n",
    "    \n",
    "    hours = d[\"Local_Date\"].apply(lambda date: date.hour).value_counts().sort_index()\n",
    "    hours /= 366\n",
    "    \n",
    "    if idx > -1:\n",
    "        hour_frac[hours.index.values, idx] = hours.values / np.sum(hours.values, axis=0)\n",
    "    idx += 1\n",
    "    \n",
    "    plt.subplot(1, 2, plt_idx)\n",
    "    plt.plot(hours.index, hours.values, 'ko')\n",
    "    plt.plot(hours.index, hours.values, 'k-', markersize=0.1, label='transactions')\n",
    "    plt.plot(range(24), np.zeros(24)+np.sum(hours)/24, 'g--', label='average')\n",
    "    plt.title(d.name, size=20)\n",
    "    plt.xlabel('hour', size=15)\n",
    "    # plt.xticks([])\n",
    "    if plt_idx == 1:\n",
    "        plt.ylabel('avg. num transactions', size=15)\n",
    "    plt_idx += 1\n",
    "    \n",
    "plt.tight_layout()\n",
    "plt.savefig(join(utils_data.FOLDER_REAL_DATA_ANALYSIS, 'time_hour-in-day'))\n",
    "plt.show()\n",
    "\n",
    "# save the resulting data\n",
    "np.save(join(utils_data.FOLDER_SIMULATOR_INPUT, 'hour_frac'), hour_frac)"
   ]
  },
  {
   "cell_type": "markdown",
   "metadata": {},
   "source": [
    "Analysis:\n",
    "- the hour of day is very important: people spend most in the evening and least during the night; fraud is usually committed in the night"
   ]
  },
  {
   "cell_type": "code",
   "execution_count": null,
   "metadata": {},
   "outputs": [],
   "source": [
    "# extract only hours\n",
    "date_hour_counts = dataset0[\"Local_Date\"].apply(lambda d: d.replace(minute=0, second=0)).value_counts(sort=False)\n",
    "hours = np.array(list(map(lambda d: d.hour, list(date_hour_counts.index))))\n",
    "counts = date_hour_counts.values\n",
    "\n",
    "hour_mean = np.zeros(24)\n",
    "hour_min = np.zeros(24)\n",
    "hour_max = np.zeros(24)\n",
    "hour_std = np.zeros(24)\n",
    "for h in range(24):\n",
    "    hour_mean[h] = np.mean(counts[hours==h])\n",
    "    hour_min[h] = np.min(counts[hours==h])\n",
    "    hour_max[h] = np.max(counts[hours==h])\n",
    "    hour_std[h] = np.std(counts[hours==h])\n",
    "    \n",
    "print(np.vstack((range(24), hour_min, hour_max, hour_mean, hour_std)).T)"
   ]
  },
  {
   "cell_type": "markdown",
   "metadata": {},
   "source": [
    "### 1.6 TEST: Do the above calculated fractions lead to the correct amount of transactions?"
   ]
  },
  {
   "cell_type": "code",
   "execution_count": null,
   "metadata": {},
   "outputs": [],
   "source": [
    "# total number of transactions we want in one year\n",
    "aggregated_data = pd.read_csv(join(utils_data.FOLDER_SIMULATOR_INPUT, 'aggregated_data.csv'), index_col=0)\n",
    "trans_per_year = np.array(aggregated_data.loc['transactions'].values, dtype=np.float)[1:]\n",
    "\n",
    "# transactions per day in a month\n",
    "frac_monthday = np.load(join(utils_data.FOLDER_SIMULATOR_INPUT, 'monthday_frac.npy'))\n",
    "# transactions per day in a week\n",
    "frac_weekday = np.load(join(utils_data.FOLDER_SIMULATOR_INPUT, 'weekday_frac.npy'))\n",
    "# transactions per month in a year\n",
    "frac_month = np.load(join(utils_data.FOLDER_SIMULATOR_INPUT, 'month_frac.npy'))\n",
    "# transactions hour in a day\n",
    "frac_hour = np.load(join(utils_data.FOLDER_SIMULATOR_INPUT, 'hour_frac.npy'))\n",
    "\n",
    "cust_idx = 0\n",
    "std_transactions = 1000\n",
    "num_customers = 200\n",
    "\n",
    "# get the probability of a transaction in a given hour\n",
    "curr_date = datetime(2016, 1, 1)\n",
    "num_trans = 0\n",
    "for i in range(366*24):\n",
    "    new_trans = float(trans_per_year[cust_idx])\n",
    "    new_trans *= frac_month[curr_date.month-1, cust_idx]\n",
    "    new_trans *= frac_monthday[curr_date.day-1, cust_idx]\n",
    "    new_trans *= 7 * frac_weekday[curr_date.weekday(), cust_idx]\n",
    "    new_trans *= frac_hour[curr_date.hour, cust_idx]\n",
    "    num_trans += new_trans\n",
    "    curr_date += timedelta(hours=1)\n",
    "print(curr_date)\n",
    "print(trans_per_year[cust_idx])\n",
    "print(num_trans)\n",
    "print(\"\")\n",
    "\n",
    "# the difference happens because some months have longer/shorter days. \n",
    "# We did not want to scale up the transactions on day 31 because that's unrealistic.\n",
    "\n",
    "curr_date = datetime(2016, 1, 1)\n",
    "num_trans = 0\n",
    "for i in range(366*24):\n",
    "\n",
    "    for c in range(num_customers):\n",
    "\n",
    "        # num_trans is the number of transactions the customer will make in this hour\n",
    "        # we assume that we have enough customers to model that each customer can make max 1 transaction per hour\n",
    "        cust_trans = float(trans_per_year[cust_idx])\n",
    "        cust_trans += np.random.normal(0, std_transactions, 1)[0]\n",
    "        cust_trans /= num_customers\n",
    "        cust_trans *= frac_month[curr_date.month-1, cust_idx]\n",
    "        cust_trans *= frac_monthday[curr_date.day-1, cust_idx]\n",
    "        cust_trans *= 7 * frac_weekday[curr_date.weekday(), cust_idx]\n",
    "        cust_trans *= frac_hour[curr_date.hour, cust_idx]\n",
    "        cust_trans += np.random.normal(0, 0.01, 1)[0]\n",
    "        \n",
    "        if cust_trans > np.random.uniform(0, 1, 1)[0]:\n",
    "            num_trans += 1\n",
    "\n",
    "    curr_date += timedelta(hours=1)\n",
    "\n",
    "print(curr_date)\n",
    "print(trans_per_year[cust_idx])\n",
    "print(num_trans)\n",
    "print(\"\")"
   ]
  },
  {
   "cell_type": "markdown",
   "metadata": {},
   "source": [
    "## 2. COUNTRY "
   ]
  },
  {
   "cell_type": "markdown",
   "metadata": {},
   "source": [
    "###  2.1 Country per transaction:"
   ]
  },
  {
   "cell_type": "code",
   "execution_count": null,
   "metadata": {
    "scrolled": false
   },
   "outputs": [],
   "source": [
    "country_counts = pd.concat([d['Country'].value_counts() for d in datasets], axis=1)\n",
    "country_counts.fillna(0, inplace=True)\n",
    "country_counts.columns = ['non-fraud', 'fraud']\n",
    "country_counts[['non-fraud', 'fraud']] /= country_counts.sum(axis=0)\n",
    "\n",
    "# save the resulting data\n",
    "country_counts.to_csv(join(utils_data.FOLDER_SIMULATOR_INPUT, 'country_frac.csv'))\n",
    "\n",
    "countries_large = []\n",
    "for c in ['non-fraud', 'fraud']:\n",
    "    countries_large.extend(country_counts.loc[country_counts[c] > 0.05].index)\n",
    "countries_large = np.unique(countries_large)\n",
    "\n",
    "countries_large_counts = []\n",
    "for c in countries_large:\n",
    "    countries_large_counts.append(country_counts.loc[c, 'non-fraud'])\n",
    "countries_large = [countries_large[np.argsort(countries_large_counts)[::-1][i]] for i in range(len(countries_large))]\n",
    "\n",
    "plt.figure(figsize=(10,5))\n",
    "bottoms = np.zeros(3)\n",
    "for i in range(len(countries_large)):\n",
    "    c = countries_large[i]\n",
    "    plt.bar((0, 1, 2), np.concatenate((country_counts.loc[c], [0])), label=c, bottom=bottoms)\n",
    "    bottoms += np.concatenate((country_counts.loc[c], [0]))\n",
    "# fill up the rest\n",
    "plt.bar((0, 1), 1-bottoms[:-1], bottom=bottoms[:-1], label='rest')\n",
    "plt.legend(fontsize=20)\n",
    "plt.xticks([0, 1], ['non-fraud', 'fraud'], size=15)\n",
    "plt.ylabel('fraction transactions made', size=15)\n",
    "plt.tight_layout()\n",
    "plt.savefig(join(utils_data.FOLDER_REAL_DATA_ANALYSIS, 'country_distribution'))\n",
    "plt.show()"
   ]
  },
  {
   "cell_type": "markdown",
   "metadata": {},
   "source": [
    "## 3. CURRENCY"
   ]
  },
  {
   "cell_type": "markdown",
   "metadata": {},
   "source": [
    "### 3.1 Currency per Transaction"
   ]
  },
  {
   "cell_type": "code",
   "execution_count": null,
   "metadata": {},
   "outputs": [],
   "source": [
    "currency_counts = pd.concat([d['Currency'].value_counts() for d in datasets], axis=1)\n",
    "currency_counts.fillna(0, inplace=True)\n",
    "currency_counts.columns = ['non-fraud', 'fraud']\n",
    "currency_counts[['non-fraud', 'fraud']] /= currency_counts.sum(axis=0)\n",
    "\n",
    "currencies_large = []\n",
    "for c in ['non-fraud', 'fraud']:\n",
    "    currencies_large.extend(currency_counts.loc[currency_counts[c] > 0].index)\n",
    "currencies_large = np.unique(currencies_large)\n",
    "\n",
    "currencies_large_counts = []\n",
    "for c in currencies_large:\n",
    "    currencies_large_counts.append(currency_counts.loc[c, 'non-fraud'])\n",
    "currencies_large = [currencies_large[np.argsort(currencies_large_counts)[::-1][i]] for i in range(len(currencies_large))]\n",
    "\n",
    "plt.figure(figsize=(10,5))\n",
    "bottoms = np.zeros(3)\n",
    "for i in range(len(currencies_large)):\n",
    "    c = currencies_large[i]\n",
    "    plt.bar((0, 1, 2), np.concatenate((currency_counts.loc[c], [0])), label=c, bottom=bottoms)\n",
    "    bottoms += np.concatenate((currency_counts.loc[c], [0]))\n",
    "    \n",
    "plt.legend(fontsize=20)\n",
    "plt.xticks([0, 1], ['non-fraud', 'fraud'], size=15)\n",
    "plt.ylabel('fraction of total transactions made', size=15)\n",
    "plt.tight_layout()\n",
    "plt.savefig(join(utils_data.FOLDER_REAL_DATA_ANALYSIS, 'currency_distribution'))\n",
    "plt.show()"
   ]
  },
  {
   "cell_type": "markdown",
   "metadata": {},
   "source": [
    "### 3.1 Currency per country"
   ]
  },
  {
   "cell_type": "markdown",
   "metadata": {},
   "source": [
    "Check how many cards make purchases in several currencies:"
   ]
  },
  {
   "cell_type": "code",
   "execution_count": null,
   "metadata": {},
   "outputs": [],
   "source": [
    "curr_per_cust = dataset0[['CardID', 'Currency']].groupby('CardID')['Currency'].value_counts().index.get_level_values(0)\n",
    "print(len(curr_per_cust))\n",
    "print(len(curr_per_cust.unique()))\n",
    "print(len(curr_per_cust) - len(curr_per_cust.unique()))"
   ]
  },
  {
   "cell_type": "markdown",
   "metadata": {},
   "source": [
    "CONCLUSION: Only 243 cards out of 54,000 puchased things in several currencies."
   ]
  },
  {
   "cell_type": "markdown",
   "metadata": {},
   "source": [
    "Estimate the probability of selection a currency, given a country:"
   ]
  },
  {
   "cell_type": "code",
   "execution_count": null,
   "metadata": {
    "collapsed": true
   },
   "outputs": [],
   "source": [
    "curr_per_country0 = dataset0.groupby(['Country'])['Currency'].value_counts(normalize=True)\n",
    "curr_per_country1 = dataset1.groupby(['Country'])['Currency'].value_counts(normalize=True)\n",
    "\n",
    "curr_per_country0.to_csv(join(utils_data.FOLDER_SIMULATOR_INPUT, 'currency_per_country0.csv'))\n",
    "curr_per_country1.to_csv(join(utils_data.FOLDER_SIMULATOR_INPUT, 'currency_per_country1.csv'))"
   ]
  },
  {
   "cell_type": "markdown",
   "metadata": {},
   "source": [
    "## 4. Merchants"
   ]
  },
  {
   "cell_type": "markdown",
   "metadata": {},
   "source": [
    "### 4.1: Merchants per Currency"
   ]
  },
  {
   "cell_type": "code",
   "execution_count": null,
   "metadata": {},
   "outputs": [],
   "source": [
    "plt.figure(figsize=(7,5))\n",
    "currencies = dataset01['Currency'].unique()\n",
    "merchants = dataset01['MerchantID'].unique()\n",
    "for curr_idx in range(len(currencies)):\n",
    "    for merch_idx in range(len(merchants)):\n",
    "        plt.plot(range(len(currencies)), np.zeros(len(currencies))+merch_idx, 'r-', linewidth=0.2)\n",
    "        if currencies[curr_idx] in dataset01.loc[dataset01['MerchantID'] == merch_idx, 'Currency'].values:\n",
    "            plt.plot(curr_idx, merch_idx, 'ko')\n",
    "plt.xticks(range(len(currencies)), currencies)\n",
    "plt.ylabel('Merchant ID', size=15)\n",
    "plt.xlabel('Currency', size=15)\n",
    "plt.tight_layout()\n",
    "plt.show()\n",
    "plt.savefig(join(utils_data.FOLDER_REAL_DATA_ANALYSIS, 'currency_per_merchant'))"
   ]
  },
  {
   "cell_type": "markdown",
   "metadata": {},
   "source": [
    "We conclude from this that most merchants only sell things in one currenyc; thus, we will let each customer select the merchant given the currency that the customer has (which is unique)."
   ]
  },
  {
   "cell_type": "markdown",
   "metadata": {},
   "source": [
    "Estimate the probability of selection a merchat, given the currency:"
   ]
  },
  {
   "cell_type": "code",
   "execution_count": null,
   "metadata": {
    "collapsed": true
   },
   "outputs": [],
   "source": [
    "merch_per_curr0 = dataset0.groupby(['Currency'])['MerchantID'].value_counts(normalize=True)\n",
    "merch_per_curr1 = dataset1.groupby(['Currency'])['MerchantID'].value_counts(normalize=True)\n",
    "\n",
    "merch_per_curr0.to_csv(join(utils_data.FOLDER_SIMULATOR_INPUT, 'merchant_per_currency0.csv'))\n",
    "merch_per_curr1.to_csv(join(utils_data.FOLDER_SIMULATOR_INPUT, 'merchant_per_currency1.csv'))"
   ]
  },
  {
   "cell_type": "markdown",
   "metadata": {},
   "source": [
    "### 4.2 Number transactions per merchant"
   ]
  },
  {
   "cell_type": "code",
   "execution_count": null,
   "metadata": {
    "scrolled": false
   },
   "outputs": [],
   "source": [
    "merchant_count0 = dataset0['MerchantID'].value_counts().sort_index()\n",
    "merchant_count1 = dataset1['MerchantID'].value_counts().sort_index()\n",
    "\n",
    "plt.figure(figsize=(15,10))\n",
    "\n",
    "ax = plt.subplot(2, 1, 1)\n",
    "ax.bar(merchant_count0.index.values, merchant_count0.values)\n",
    "rects = ax.patches\n",
    "for rect, label in zip(rects, merchant_count0.values):\n",
    "    height = rect.get_height()\n",
    "    ax.text(rect.get_x() + rect.get_width()/2, height, label, ha='center', va='bottom')\n",
    "plt.ylabel('num transactions')\n",
    "plt.xticks([])\n",
    "plt.xlim([-0.5, data_stats.loc['num merchants', 'all']+0.5])\n",
    "\n",
    "ax = plt.subplot(2, 1, 2)\n",
    "ax.bar(merchant_count1.index.values, merchant_count1.values)\n",
    "rects = ax.patches\n",
    "for rect, label in zip(rects, merchant_count1.values):\n",
    "    height = rect.get_height()\n",
    "    ax.text(rect.get_x() + rect.get_width()/2, height, label, ha='center', va='bottom')\n",
    "plt.ylabel('num transactions')\n",
    "plt.xlabel('Merchant ID')\n",
    "plt.xlim([-0.5, data_stats.loc['num merchants', 'all']+0.5])\n",
    "\n",
    "plt.tight_layout()\n",
    "plt.show()"
   ]
  },
  {
   "cell_type": "markdown",
   "metadata": {},
   "source": [
    "## 5. Transaction Amount"
   ]
  },
  {
   "cell_type": "markdown",
   "metadata": {},
   "source": [
    "### 5.1 Amount over time"
   ]
  },
  {
   "cell_type": "code",
   "execution_count": null,
   "metadata": {},
   "outputs": [],
   "source": [
    "plt.figure(figsize=(12, 10))\n",
    "plt_idx = 1\n",
    "for d in datasets:\n",
    "    plt.subplot(2, 1, plt_idx)\n",
    "    plt.plot(range(d.shape[0]), d['Amount'], 'k.')\n",
    "#     plt.plot(date_num, amount, 'k.', label='num trans.')\n",
    "#     plt.plot(date_num, np.zeros(len(date_num))+np.mean(all_trans), 'g',label='average')\n",
    "    plt_idx += 1\n",
    "#     plt.title(d.name, size=20)\n",
    "    plt.xlabel('transactions', size=15)\n",
    "    plt.xticks([])\n",
    "    if plt_idx == 2:\n",
    "        plt.ylabel('amount', size=15)\n",
    "        plt.legend(fontsize=15)\n",
    "plt.tight_layout()\n",
    "plt.savefig(join(utils_data.FOLDER_REAL_DATA_ANALYSIS, 'amount_day-in-year'))\n",
    "plt.show()"
   ]
  },
  {
   "cell_type": "code",
   "execution_count": null,
   "metadata": {
    "scrolled": true
   },
   "outputs": [],
   "source": [
    "print(dataset0.loc[dataset0['Amount'] == 5472.53,['Local_Date', 'CardID', 'MerchantID', 'Amount', 'Currency', 'Country']])"
   ]
  },
  {
   "cell_type": "markdown",
   "metadata": {},
   "source": [
    "### 5.2 Amount distribution"
   ]
  },
  {
   "cell_type": "code",
   "execution_count": null,
   "metadata": {
    "scrolled": true
   },
   "outputs": [],
   "source": [
    "plt.figure(figsize=(10,5))\n",
    "bins = [0, 5, 25, 50, 100, 1000, 11000]\n",
    "plt_idx = 1\n",
    "for d in datasets:\n",
    "    amount_counts, loc = np.histogram(d[\"Amount\"], bins=bins)\n",
    "    amount_counts = np.array(amount_counts, dtype=np.float)\n",
    "    amount_counts /= np.sum(amount_counts)\n",
    "    plt.subplot(1, 2, plt_idx)\n",
    "    am_bot = 0\n",
    "    for i in range(len(amount_counts)):\n",
    "        plt.bar(plt_idx, amount_counts[i], bottom=am_bot, label='{}-{}'.format(bins[i], bins[i+1]))\n",
    "        am_bot += amount_counts[i]\n",
    "    plt_idx += 1\n",
    "    plt.ylim([0, 1.01])\n",
    "plt.legend()\n",
    "# plt.title(\"Amount distribution\")\n",
    "plt_idx += 1\n",
    "plt.show()"
   ]
  },
  {
   "cell_type": "code",
   "execution_count": null,
   "metadata": {},
   "outputs": [],
   "source": [
    "plt.figure(figsize=(12, 10))\n",
    "plt_idx = 1\n",
    "for d in datasets:\n",
    "    plt.subplot(2, 1, plt_idx)\n",
    "    min_amount = min(d['Amount'])\n",
    "    max_amount = max(d['Amount'])\n",
    "    plt.plot(range(d.shape[0]), np.sort(d['Amount']), 'k.', label='transaction')\n",
    "#     plt.plot(date_num, amount, 'k.', label='num trans.')\n",
    "    plt.plot(np.linspace(0, d.shape[0], 100), np.zeros(100)+np.mean(d['Amount']), 'g--',label='average')\n",
    "    plt_idx += 1\n",
    "    plt.title(d.name, size=20)\n",
    "    plt.ylabel('amount', size=15)\n",
    "    if plt_idx == 3:\n",
    "        plt.xlabel('transactions', size=15)\n",
    "    else:\n",
    "        plt.legend(fontsize=15)\n",
    "plt.tight_layout()\n",
    "plt.savefig(join(utils_data.FOLDER_REAL_DATA_ANALYSIS, 'amount_day-in-year'))\n",
    "plt.show()"
   ]
  },
  {
   "cell_type": "markdown",
   "metadata": {},
   "source": [
    "For each merchant, we will have a probability distribution over the amount spent"
   ]
  },
  {
   "cell_type": "code",
   "execution_count": null,
   "metadata": {},
   "outputs": [],
   "source": [
    "from scipy.optimize import curve_fit\n",
    "\n",
    "def sigmoid(x, x0, k):\n",
    "    y = 1 / (1 + np.exp(-k * (x - x0)))\n",
    "    return y\n",
    "\n",
    "num_merchants = data_stats.loc['num merchants', 'all']\n",
    "num_bins = 20\n",
    "merchant_amount_distr = np.zeros((2, num_merchants, 2*num_bins+1))\n",
    "\n",
    "plt.figure(figsize=(15, 5))\n",
    "plt_idx = 1\n",
    "for dataset in [dataset0, dataset1]:\n",
    "    for m in dataset0['MerchantID'].unique():\n",
    "        \n",
    "        # get all transactions from this merchant\n",
    "        trans_merch = dataset.loc[dataset['MerchantID']==m]\n",
    "        num_transactions = trans_merch.shape[0]\n",
    "        \n",
    "        if num_transactions > 0:\n",
    "\n",
    "            # get the amounts paid for the transactions with this merchant\n",
    "            amounts = trans_merch['Amount']\n",
    "            bins_height, bins_edges = np.histogram(amounts, bins=num_bins)\n",
    "            bins_height = np.array(bins_height, dtype=np.float)\n",
    "            bins_height /= np.sum(bins_height)\n",
    "            \n",
    "            merchant_amount_distr[int(plt_idx > 7), (plt_idx-1)%7, :] = np.concatenate((bins_height, bins_edges))\n",
    "            \n",
    "            plt.subplot(2, num_merchants, plt_idx)\n",
    "            plt.hist(amounts, bins=num_bins)\n",
    "            \n",
    "        plt_idx += 1\n",
    "        \n",
    "plt.tight_layout()\n",
    "plt.show()\n",
    "\n",
    "np.save(join(utils_data.FOLDER_SIMULATOR_INPUT,'merchant_amount_distr'), merchant_amount_distr)"
   ]
  },
  {
   "cell_type": "code",
   "execution_count": null,
   "metadata": {},
   "outputs": [],
   "source": [
    "from scipy.optimize import curve_fit\n",
    "\n",
    "def sigmoid(x, x0, k):\n",
    "    y = 1 / (1 + np.exp(-k * (x - x0)))\n",
    "    return y\n",
    "\n",
    "num_merchants = data_stats.loc['num merchants', 'all']\n",
    "merchant_amount_parameters = np.zeros((2, num_merchants, 4))\n",
    "\n",
    "plt.figure(figsize=(15, 5))\n",
    "plt_idx = 1\n",
    "for dataset in [dataset0, dataset1]:\n",
    "    for m in dataset0['MerchantID'].unique():\n",
    "        \n",
    "        # get all transactions from this merchant\n",
    "        trans_merch = dataset.loc[dataset['MerchantID']==m]\n",
    "        num_transactions = trans_merch.shape[0]\n",
    "        \n",
    "        if num_transactions > 0:\n",
    "\n",
    "            # get the amounts paid for the transactions with this merchant\n",
    "            amounts = np.sort(trans_merch['Amount']) \n",
    "            min_amount = min(amounts)\n",
    "            max_amount = max(amounts)\n",
    "            amounts_normalised = (amounts - min_amount) / (max_amount - min_amount)\n",
    "\n",
    "            plt.subplot(2, num_merchants, plt_idx)\n",
    "            plt.plot(np.linspace(0, 1, num_transactions), amounts, '.')\n",
    "            \n",
    "            # fit sigmoid\n",
    "            x_vals = np.linspace(0, 1, 100)\n",
    "            try:\n",
    "                p_sigmoid, _ = curve_fit(sigmoid, np.linspace(0, 1, num_transactions), amounts_normalised)\n",
    "                amounts_predict = sigmoid(x_vals, *p_sigmoid)\n",
    "                amounts_predict_denormalised = amounts_predict * (max_amount - min_amount) + min_amount\n",
    "                plt.plot(x_vals, amounts_predict_denormalised)\n",
    "            except:\n",
    "                # fit polynomial\n",
    "                p_poly = np.polyfit(np.linspace(0, 1, num_transactions), amounts_normalised, 2)\n",
    "                amounts_predict = np.polyval(p_poly, x_vals)\n",
    "                p_sigmoid, _ = curve_fit(sigmoid, x_vals, amounts_predict)\n",
    "                amounts_predict = sigmoid(x_vals, *p_sigmoid)\n",
    "                amounts_predict_denormalised = amounts_predict * (max_amount - min_amount) + min_amount\n",
    "                plt.plot(x_vals, amounts_predict_denormalised)\n",
    "\n",
    "            merchant_amount_parameters[int(plt_idx > 7), (plt_idx-1)%7] = [min_amount, max_amount, p_sigmoid[0], p_sigmoid[1]]\n",
    "     \n",
    "        plt_idx += 1\n",
    "        \n",
    "plt.tight_layout()\n",
    "plt.show()\n",
    "\n",
    "np.save(join(utils_data.FOLDER_SIMULATOR_INPUT,'merchant_amount_parameters'), merchant_amount_parameters)\n",
    "print(merchant_amount_parameters)"
   ]
  },
  {
   "cell_type": "markdown",
   "metadata": {},
   "source": [
    "We conclude that the normal customers and fraudsters follow roughly the same distribution, so we will only have one per merchant; irrespective of whether a genuine or fraudulent customer is making the transaction."
   ]
  },
  {
   "cell_type": "code",
   "execution_count": null,
   "metadata": {},
   "outputs": [],
   "source": [
    "from scipy.optimize import curve_fit\n",
    "\n",
    "def sigmoid(x, x0, k):\n",
    "    y = 1 / (1 + np.exp(-k * (x - x0)))\n",
    "    return y\n",
    "\n",
    "num_merchants = data_stats.loc['num merchants', 'all']\n",
    "merchant_amount_parameters = np.zeros((2, num_merchants, 4))\n",
    "\n",
    "plt.figure(figsize=(6, 3))\n",
    "plt_idx = 1\n",
    "dataset  = dataset0\n",
    "m = dataset0['MerchantID'].unique()[0]\n",
    "        \n",
    "# get all transactions from this merchant\n",
    "trans_merch = dataset.loc[dataset['MerchantID']==m]\n",
    "num_transactions = trans_merch.shape[0]\n",
    "        \n",
    "\n",
    "# get the amounts paid for the transactions with this merchant\n",
    "amounts = np.sort(trans_merch['Amount']) \n",
    "min_amount = min(amounts)\n",
    "max_amount = max(amounts)\n",
    "amounts_normalised = (amounts - min_amount) / (max_amount - min_amount)\n",
    "\n",
    "plt.plot(range(num_transactions), amounts, 'k-', linewidth=2, label='real')\n",
    "\n",
    "# fit sigmoid\n",
    "x_vals = np.linspace(0, 1, 100)\n",
    "x = np.linspace(0, 1, num_transactions)\n",
    "p_sigmoid, _ = curve_fit(sigmoid, np.linspace(0, 1, num_transactions), amounts_normalised)\n",
    "amounts_predict = sigmoid(x_vals, *p_sigmoid)\n",
    "amounts_predict_denormalised = amounts_predict * (max_amount - min_amount) + min_amount\n",
    "plt.plot(np.linspace(0, num_transactions, 100), amounts_predict_denormalised, 'm--', linewidth=3, label='approx')\n",
    "\n",
    "merchant_amount_parameters[int(plt_idx > 7), (plt_idx-1)%7] = [min_amount, max_amount, p_sigmoid[0], p_sigmoid[1]]\n",
    "\n",
    "plt.xlabel('transaction count', fontsize=20)\n",
    "plt.ylabel('price', fontsize=20)\n",
    "\n",
    "plt.legend(fontsize=15)\n",
    "plt.tight_layout()\n",
    "plt.savefig(join(utils_data.FOLDER_REAL_DATA_ANALYSIS, 'merchant_price_sigmoid_fit'))\n",
    "plt.show()"
   ]
  },
  {
   "cell_type": "markdown",
   "metadata": {},
   "source": [
    "## Customers"
   ]
  },
  {
   "cell_type": "markdown",
   "metadata": {},
   "source": [
    "Here we want to find out how long customers/fraudsters return, i.e., how often the same credit card is used over time."
   ]
  },
  {
   "cell_type": "code",
   "execution_count": null,
   "metadata": {
    "scrolled": false
   },
   "outputs": [],
   "source": [
    "plt.figure(figsize=(15, 30))\n",
    "plt_idx = 1\n",
    "dist_transactions = [[], []]\n",
    "for d in datasets:\n",
    "#     d = d.loc[d['Date'].apply(lambda date: date.month) < 7]\n",
    "#     d = d.loc[d['Date'].apply(lambda date: date.month) > 3]\n",
    "    plt.subplot(1, 2, plt_idx)\n",
    "    trans_idx = 0\n",
    "    for card in dataset01['CardID'].unique():\n",
    "        card_times = d.loc[d['CardID'] == card, 'Global_Date']\n",
    "        dist_transactions[plt_idx-1].extend([(card_times.iloc[i+1] - card_times.iloc[i]).days for i in range(len(card_times)-1)])\n",
    "        if plt_idx == 2:\n",
    "            num_c = 2\n",
    "        else:\n",
    "            num_c = 10\n",
    "        if len(card_times) > num_c:\n",
    "            card_times = card_times.apply(lambda date: date.date())\n",
    "            card_times = matplotlib.dates.date2num(card_times)\n",
    "            plt.plot(card_times, np.zeros(len(card_times)) + trans_idx, 'k.', markersize=1)\n",
    "            plt.plot(card_times, np.zeros(len(card_times)) + trans_idx, 'k-', linewidth=0.2)\n",
    "            trans_idx += 1\n",
    "    min_date = matplotlib.dates.date2num(min(dataset01['Global_Date']).date())\n",
    "    max_date = matplotlib.dates.date2num(max(dataset01['Global_Date']).date())\n",
    "#     plt.xlim([min_date, max_date])\n",
    "    plt.xticks([])\n",
    "    for m in range(1,13):\n",
    "        datenum = matplotlib.dates.date2num(datetime(2016, m, 1))\n",
    "        plt.plot(np.zeros(2)+datenum, [-1, 1000], 'r-', linewidth=0.5)\n",
    "    if plt_idx == 1:\n",
    "        plt.ylim([0,300])\n",
    "    else:\n",
    "        plt.ylim([0, 50])\n",
    "    plt_idx += 1\n",
    "plt.show()"
   ]
  },
  {
   "cell_type": "code",
   "execution_count": null,
   "metadata": {},
   "outputs": [],
   "source": [
    "# average distance between two transactions with the same card\n",
    "print(np.mean(dist_transactions[0]))\n",
    "print(np.mean(dist_transactions[1]))"
   ]
  },
  {
   "cell_type": "markdown",
   "metadata": {},
   "source": [
    "At a given transaction, estimate the probability of doing another transaction with the same card."
   ]
  },
  {
   "cell_type": "code",
   "execution_count": null,
   "metadata": {},
   "outputs": [],
   "source": [
    "prob_stay = np.zeros(2)\n",
    "for k in range(2):\n",
    "\n",
    "    dataset = [dataset0, dataset1][k]\n",
    "    \n",
    "    creditcards = dataset.loc[dataset['Global_Date'].apply(lambda d: d.month) > 3]\n",
    "    creditcards = creditcards.loc[creditcards['Global_Date'].apply(lambda d: d.month) < 6]\n",
    "    creditcard_counts = creditcards['CardID'].value_counts()\n",
    "    creditcardIDs = creditcards['CardID']\n",
    "\n",
    "    data = dataset.loc[dataset['Global_Date'].apply(lambda d: d.month) > 3]\n",
    "\n",
    "    single = 0\n",
    "    multi = 0\n",
    "    for i in range(len(creditcards)):\n",
    "        cc = creditcards.iloc[i]['CardID']\n",
    "        dd = creditcards.iloc[i]['Global_Date']\n",
    "        cond1 = data['CardID'] == cc\n",
    "        cond2 = data['Global_Date'] > dd\n",
    "        if len(data.loc[np.logical_and(cond1, cond2)]) == 0:\n",
    "            single += 1\n",
    "        else:\n",
    "            multi += 1\n",
    "    \n",
    "    prob_stay[k] = multi/(single+multi)\n",
    "\n",
    "    print('probability of doing another transaction:', prob_stay[k], '{}'.format(['non-fraud', 'fraud'][k]))\n",
    "    \n",
    "np.save(join(utils_data.FOLDER_SIMULATOR_INPUT, 'prob_stay'), prob_stay)"
   ]
  },
  {
   "cell_type": "markdown",
   "metadata": {},
   "source": [
    "## Fraud behaviour"
   ]
  },
  {
   "cell_type": "code",
   "execution_count": null,
   "metadata": {},
   "outputs": [],
   "source": [
    "cards0 = dataset0['CardID'].unique()\n",
    "cards1 = dataset1['CardID'].unique()\n",
    "\n",
    "print('cards total:', len(np.union1d(cards0, cards1)))\n",
    "print('fraud cards:', len(cards1))\n",
    "print('intersection:', len(np.intersect1d(cards0, cards1)))\n",
    "\n",
    "# go through the cards that were in both sets\n",
    "cards0_1 = []\n",
    "cards1_0 = []\n",
    "cards010 = []\n",
    "for cib in np.intersect1d(cards0, cards1):\n",
    "    date0 = dataset0.loc[dataset0['CardID']==cib].iloc[0]['Global_Date']\n",
    "    date1 = dataset1.loc[dataset1['CardID']==cib].iloc[0]['Global_Date']\n",
    "    if date0 < date1:\n",
    "        cards0_1.append(cib)\n",
    "        # genuine purchases after fraud\n",
    "        dates00 = dataset0.loc[dataset0['CardID']==cib].iloc[1:]['Global_Date']\n",
    "        if len(dates00)>0:\n",
    "            if sum(dates00>date1)>0:\n",
    "                cards010.append(cib)\n",
    "    else:\n",
    "        cards1_0.append(cib)\n",
    "        \n",
    "print('first genuine then fraud: ', len(cards0_1))\n",
    "print('first fraud then genuine: ', len(cards1_0))\n",
    "print('genuine again after fraud: ', len(cards010))\n",
    "\n",
    "prob_stay_after_fraud = len(cards010)/len(cards0_1)\n",
    "print('prob of purchase after fraud: ', prob_stay_after_fraud)\n",
    "np.save(join(utils_data.FOLDER_SIMULATOR_INPUT, 'prob_stay_after_fraud'), prob_stay_after_fraud )"
   ]
  },
  {
   "cell_type": "code",
   "execution_count": null,
   "metadata": {},
   "outputs": [],
   "source": [
    "plt.figure(figsize=(10, 25))\n",
    "\n",
    "dist_transactions = []\n",
    "trans_idx = 0\n",
    "\n",
    "data_compromised = dataset01.loc[dataset01['CardID'].apply(lambda cid: cid in np.intersect1d(cards0, cards1))]\n",
    "\n",
    "no_trans_after_fraud = 0\n",
    "trans_after_fraud = 0\n",
    "for card in data_compromised['CardID'].unique():\n",
    "    cards_used = data_compromised.loc[data_compromised['CardID'] == card, ['Global_Date', 'Target']]\n",
    "    dist_transactions.extend([(cards_used.iloc[i+1, 0] - cards_used.iloc[i, 0]).days for i in range(len(cards_used)-1)])\n",
    "\n",
    "    card_times = cards_used['Global_Date'].apply(lambda date: date.date())\n",
    "    card_times = matplotlib.dates.date2num(card_times)\n",
    "    plt.plot(card_times, np.zeros(len(card_times)) + trans_idx, 'k-', linewidth=0.9)\n",
    "    \n",
    "    cond0 = cards_used['Target'] == 0\n",
    "    plt.plot(card_times[cond0], np.zeros(len(card_times[cond0])) + trans_idx, 'g.', markersize=5)\n",
    "    \n",
    "    cond1 = cards_used['Target'] == 1\n",
    "    plt.plot(card_times[cond1], np.zeros(len(card_times[cond1])) + trans_idx, 'r.', markersize=5)\n",
    "    \n",
    "    if max(cards_used.loc[cards_used['Target']==0, 'Global_Date']) > max(cards_used.loc[cards_used['Target']==1, 'Global_Date']):\n",
    "        trans_after_fraud += 1\n",
    "    else:\n",
    "        no_trans_after_fraud += 1\n",
    "    \n",
    "    trans_idx += 1\n",
    "    \n",
    "min_date = matplotlib.dates.date2num(min(dataset01['Global_Date']).date())\n",
    "max_date = matplotlib.dates.date2num(max(dataset01['Global_Date']).date())\n",
    "\n",
    "plt.xticks([])\n",
    "plt.ylim([0, trans_idx])\n",
    "\n",
    "# print lines for months\n",
    "for m in range(1,13):\n",
    "    datenum = matplotlib.dates.date2num(datetime(2016, m, 1))\n",
    "    plt.plot(np.zeros(2)+datenum, [-1, 1000], 'r-', linewidth=0.5)\n",
    "\n",
    "plt_idx += 1\n",
    "plt.show()\n",
    "\n",
    "print(\"genuine transactions after fraud: \", trans_after_fraud)\n",
    "print(\"fraud is the last transaction: \", no_trans_after_fraud)"
   ]
  },
  {
   "cell_type": "markdown",
   "metadata": {},
   "source": [
    "when a fraudster uses an existing card, are country and currency always the same?"
   ]
  },
  {
   "cell_type": "code",
   "execution_count": null,
   "metadata": {},
   "outputs": [],
   "source": [
    "plt.figure(figsize=(10, 25))\n",
    "\n",
    "dist_transactions = []\n",
    "trans_idx = 0\n",
    "\n",
    "for card in data_compromised['CardID'].unique():\n",
    "    cards_used = data_compromised.loc[data_compromised['CardID'] == card, ['Global_Date', 'Target', 'Country', 'Currency']]\n",
    "    if len(cards_used['Country'].unique()) > 1 or len(cards_used['Currency'].unique()) > 1:\n",
    "        print(cards_used)\n",
    "        print(\"\")"
   ]
  },
  {
   "cell_type": "code",
   "execution_count": null,
   "metadata": {
    "collapsed": true
   },
   "outputs": [],
   "source": []
  },
  {
   "cell_type": "code",
   "execution_count": null,
   "metadata": {
    "collapsed": true
   },
   "outputs": [],
   "source": []
  }
 ],
 "metadata": {
  "kernelspec": {
   "display_name": "Python 3",
   "language": "python",
   "name": "python3"
  },
  "language_info": {
   "codemirror_mode": {
    "name": "ipython",
    "version": 3
   },
   "file_extension": ".py",
   "mimetype": "text/x-python",
   "name": "python",
   "nbconvert_exporter": "python",
   "pygments_lexer": "ipython3",
   "version": "3.6.0"
  }
 },
 "nbformat": 4,
 "nbformat_minor": 1
}
